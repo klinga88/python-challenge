{
 "cells": [
  {
   "cell_type": "code",
   "execution_count": 15,
   "metadata": {
    "collapsed": true
   },
   "outputs": [],
   "source": [
    "import os\n",
    "import pandas as pd\n",
    "\n",
    "#-----------------------------------------------------------\n",
    "#Define Variables\n",
    "#-----------------------------------------------------------\n",
    "\n",
    "#setup input and output file paths\n",
    "outputFilePath = os.path.join(\"Revenue_Data_Summary.csv\")\n",
    "inputFilePath1 = os.path.join(\"raw_data\",\"election_data_1.csv\")\n",
    "inputFilePath2 = os.path.join(\"raw_data\",\"election_data_2.csv\")\n",
    "files = [inputFilePath1,inputFilePath2]\n",
    "pd.options.display.float_format = '{:.2f}%'.format"
   ]
  },
  {
   "cell_type": "code",
   "execution_count": 16,
   "metadata": {},
   "outputs": [
    {
     "name": "stdout",
     "output_type": "stream",
     "text": [
      "Total Votes: 4324001\n"
     ]
    }
   ],
   "source": [
    "electionData = pd.concat((pd.read_csv(f) for f in files))\n",
    "\n",
    "totalVotes = electionData[\"Candidate\"].count()\n",
    "print(f\"Total Votes: {totalVotes}\")"
   ]
  },
  {
   "cell_type": "code",
   "execution_count": 19,
   "metadata": {},
   "outputs": [
    {
     "data": {
      "text/html": [
       "<div>\n",
       "<style>\n",
       "    .dataframe thead tr:only-child th {\n",
       "        text-align: right;\n",
       "    }\n",
       "\n",
       "    .dataframe thead th {\n",
       "        text-align: left;\n",
       "    }\n",
       "\n",
       "    .dataframe tbody tr th {\n",
       "        vertical-align: top;\n",
       "    }\n",
       "</style>\n",
       "<table border=\"1\" class=\"dataframe\">\n",
       "  <thead>\n",
       "    <tr style=\"text-align: right;\">\n",
       "      <th></th>\n",
       "      <th>Candidate</th>\n",
       "      <th>Total Votes</th>\n",
       "      <th>Percent of Total Vote</th>\n",
       "    </tr>\n",
       "  </thead>\n",
       "  <tbody>\n",
       "    <tr>\n",
       "      <th>0</th>\n",
       "      <td>Khan</td>\n",
       "      <td>2218231</td>\n",
       "      <td>51.30%</td>\n",
       "    </tr>\n",
       "    <tr>\n",
       "      <th>1</th>\n",
       "      <td>Correy</td>\n",
       "      <td>704200</td>\n",
       "      <td>16.29%</td>\n",
       "    </tr>\n",
       "    <tr>\n",
       "      <th>2</th>\n",
       "      <td>Li</td>\n",
       "      <td>492940</td>\n",
       "      <td>11.40%</td>\n",
       "    </tr>\n",
       "    <tr>\n",
       "      <th>3</th>\n",
       "      <td>Vestal</td>\n",
       "      <td>385440</td>\n",
       "      <td>8.91%</td>\n",
       "    </tr>\n",
       "    <tr>\n",
       "      <th>4</th>\n",
       "      <td>Torres</td>\n",
       "      <td>353320</td>\n",
       "      <td>8.17%</td>\n",
       "    </tr>\n",
       "    <tr>\n",
       "      <th>5</th>\n",
       "      <td>O'Tooley</td>\n",
       "      <td>105630</td>\n",
       "      <td>2.44%</td>\n",
       "    </tr>\n",
       "    <tr>\n",
       "      <th>6</th>\n",
       "      <td>Seth</td>\n",
       "      <td>40150</td>\n",
       "      <td>0.93%</td>\n",
       "    </tr>\n",
       "    <tr>\n",
       "      <th>7</th>\n",
       "      <td>Cordin</td>\n",
       "      <td>24090</td>\n",
       "      <td>0.56%</td>\n",
       "    </tr>\n",
       "  </tbody>\n",
       "</table>\n",
       "</div>"
      ],
      "text/plain": [
       "  Candidate  Total Votes  Percent of Total Vote\n",
       "0      Khan      2218231                 51.30%\n",
       "1    Correy       704200                 16.29%\n",
       "2        Li       492940                 11.40%\n",
       "3    Vestal       385440                  8.91%\n",
       "4    Torres       353320                  8.17%\n",
       "5  O'Tooley       105630                  2.44%\n",
       "6      Seth        40150                  0.93%\n",
       "7    Cordin        24090                  0.56%"
      ]
     },
     "execution_count": 19,
     "metadata": {},
     "output_type": "execute_result"
    }
   ],
   "source": [
    "candidateVotes = pd.DataFrame(electionData[\"Candidate\"].value_counts().reset_index())\n",
    "candidateVotes = candidateVotes.rename(index=str, columns={\"index\":\"Candidate\",\"Candidate\":\"Total Votes\"})\n",
    "candidateVotes[\"Percent of Total Vote\"] = (candidateVotes[\"Total Votes\"] / totalVotes)*100\n",
    "candidateVotes"
   ]
  },
  {
   "cell_type": "code",
   "execution_count": null,
   "metadata": {
    "collapsed": true
   },
   "outputs": [],
   "source": []
  }
 ],
 "metadata": {
  "kernelspec": {
   "display_name": "Python 3",
   "language": "python",
   "name": "python3"
  },
  "language_info": {
   "codemirror_mode": {
    "name": "ipython",
    "version": 3
   },
   "file_extension": ".py",
   "mimetype": "text/x-python",
   "name": "python",
   "nbconvert_exporter": "python",
   "pygments_lexer": "ipython3",
   "version": "3.6.1"
  }
 },
 "nbformat": 4,
 "nbformat_minor": 2
}
